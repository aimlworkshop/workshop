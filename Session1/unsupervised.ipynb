{
 "cells": [
  {
   "cell_type": "code",
   "execution_count": null,
   "metadata": {},
   "outputs": [],
   "source": [
    "import numpy as np\n",
    "import matplotlib.pyplot as plt\n",
    "from sklearn.datasets import load_digits\n",
    "from sklearn.model_selection import train_test_split\n",
    "from sklearn.cluster import KMeans\n",
    "from scipy.stats import mode"
   ]
  },
  {
   "cell_type": "code",
   "execution_count": null,
   "metadata": {},
   "outputs": [],
   "source": [
    "# Functions\n",
    "def distributionOfData(data):\n",
    "    # Define bins\n",
    "    bin_edges = np.arange(0, 11, 1)  # Bin edges at integer intervals (-4 to 4)\n",
    "    bin_centers = (bin_edges[:-1] + bin_edges[1:]) / 2  # Compute bin centers\n",
    "\n",
    "    # Create the histogram\n",
    "    plt.hist(data, bins=bin_edges, color='blue', edgecolor='black', alpha=0.7, label=\"Data Distribution\")\n",
    "\n",
    "    # Add labels and title\n",
    "    plt.xlabel('Value Ranges (Standard Deviations)', fontsize=12)\n",
    "    plt.ylabel('Frequency (Count of Data Points)', fontsize=12)\n",
    "    plt.title('Histogram of Randomly Generated Data', fontsize=14)\n",
    "\n",
    "    # Set x-axis ticks at bin centers\n",
    "    plt.xticks(bin_centers, labels=[f\"{x}\" for x in bin_edges[:-1]])\n",
    "\n",
    "    # Add grid for better readability\n",
    "    plt.grid(axis='y', linestyle='--', alpha=0.6)\n",
    "\n",
    "    # Add legend\n",
    "    plt.legend()\n",
    "\n",
    "    # Show the plot\n",
    "    plt.show()\n",
    "\n",
    "def showPictureDigitsData(X_data, y_data):\n",
    "    print(\"Example of Data:\")\n",
    "\n",
    "    plt.imshow(X_data[0].reshape(8, 8), cmap=\"gray\")\n",
    "    plt.title(f\"Example Image (Label: {y_data[0]})\")\n",
    "    plt.show()\n",
    "\n",
    "def showNumericalDigitsData(digits):\n",
    "    for i in range(3):\n",
    "        print(f\"Y-value: {digits.target[i]}\")\n",
    "        print(f\"X-Value: {digits.data[i]}\\n\")\n",
    "\n",
    "def filteredDigits():\n",
    "        # Load the digits dataset\n",
    "    digits = load_digits()\n",
    "\n",
    "    # Extract the labels (target) from the dataset\n",
    "    y = digits.target\n",
    "\n",
    "    # Use np.where to find the indices of labels that are less than 5\n",
    "    indices_less_than_5 = np.where(y < 5)\n",
    "    \n",
    "    return digits.data[indices_less_than_5], digits.target[indices_less_than_5], \n",
    "\n",
    "def allDigits():\n",
    "    digits = load_digits()\n",
    "    return digits.data, digits.target\n",
    "\n",
    "# def getClusters():\n",
    "\n",
    "def showCentroids(model):\n",
    "    centroids = model.cluster_centers_.reshape(10, 8, 8)\n",
    "    # Plot cluster centroids as images\n",
    "    fig, axes = plt.subplots(2, 5, figsize=(10, 5))\n",
    "    for i, ax in enumerate(axes.flat):\n",
    "        ax.imshow(centroids[i], cmap=\"gray\")\n",
    "        ax.set_title(f\"Cluster {i}\")\n",
    "        ax.axis(\"off\")\n",
    "\n",
    "    plt.suptitle(\"Cluster Centroids (Prototypes of Digits Found by K-Means)\")\n",
    "    plt.show()\n",
    "\n",
    "def unsupervisedModel():\n",
    "    return KMeans(n_clusters=10, random_state=42, n_init=10)\n",
    "\n",
    "def clusterToDigitMap(cluster_labels, y_true):\n",
    "    cluster_map = {}\n",
    "    for cluster in range(10):\n",
    "        cluster_indices = np.where(cluster_labels == cluster)[0]\n",
    "        if len(cluster_indices) > 0:  # Ensure there are samples in this cluster\n",
    "            most_common_label = mode(y_true[cluster_indices], keepdims=True).mode[0]\n",
    "            cluster_map[cluster] = most_common_label\n",
    "\n",
    "    print(f\"Cluster Mapping (K-Means Cluster → True Digit): {cluster_map}\")\n",
    "    return cluster_map\n",
    "\n",
    "def exampleOfCluster(X, cluster_labels, cluster_map):\n",
    "    fig, axes = plt.subplots(2, 5, figsize=(10, 5))\n",
    "    for cluster in range(10):\n",
    "        cluster_indices = np.where(cluster_labels == cluster)[0]\n",
    "        if len(cluster_indices) > 0:  # Ensure the cluster is not empty\n",
    "            sample_idx = cluster_indices[0]  # Select first image in the cluster\n",
    "            ax = axes[cluster // 5, cluster % 5]\n",
    "            ax.imshow(X[sample_idx].reshape(8, 8), cmap='gray')\n",
    "            ax.set_title(f\"Cluster {cluster} → {cluster_map[cluster]}\")\n",
    "            ax.axis('off')\n",
    "    plt.show()\n",
    "\n",
    "def numMisclassified(cluster_labels, cluster_map, y_true):\n",
    "    # Count misclassified images per cluster\n",
    "    misclassified_counts = {i: 0 for i in range(10)}\n",
    "    totalCounts = {i: 0 for i in range(10)}\n",
    "\n",
    "    # Loop through all clusters and count misclassified samples\n",
    "    for cluster in range(10):\n",
    "        cluster_indices = np.where(cluster_labels == cluster)[0]\n",
    "        if len(cluster_indices) > 0:  # Ensure the cluster is not empty\n",
    "            predicted_label = cluster_map[cluster]  # The most common label for this cluster\n",
    "            # Compare predicted label to the true label for each sample in the cluster\n",
    "            for idx in cluster_indices:\n",
    "                if y_true[idx] != predicted_label:\n",
    "                    misclassified_counts[cluster] += 1\n",
    "                totalCounts[cluster] += 1\n",
    "\n",
    "    print(\"Misclassified and Total Images per Cluster:\")\n",
    "    for cluster in misclassified_counts.keys():\n",
    "        misclassified = misclassified_counts[cluster]\n",
    "        total = totalCounts.get(cluster, 0)  # Default to 0 if the cluster doesn't exist in totalCounts\n",
    "        print(f\"Cluster {cluster}: {misclassified} misclassified images out of {total} total images ({misclassified/total * 100:.0f}%)\")\n",
    "\n",
    "def showMisclassified(X, y_true, cluster_labels, cluster_map):\n",
    "    # Iterate through each cluster and print misclassified images\n",
    "    for cluster in range(10):\n",
    "        cluster_indices = np.where(cluster_labels == cluster)[0]\n",
    "        predicted_label = cluster_map[cluster]  # Most common label for this cluster\n",
    "\n",
    "        # Find misclassified indices in the cluster\n",
    "        misclassified_indices = [idx for idx in cluster_indices if y_true[idx] != predicted_label]\n",
    "        \n",
    "        if misclassified_indices:\n",
    "            print(f\"Cluster {cluster}: {len(misclassified_indices)} misclassified images\")\n",
    "            \n",
    "            # Plot misclassified images\n",
    "            fig, axes = plt.subplots(1, min(6, len(misclassified_indices)), figsize=(15, 3))\n",
    "            for i, ax in enumerate(axes):\n",
    "                ax.imshow(X[misclassified_indices[i]].reshape(8, 8), cmap='gray')\n",
    "                ax.axis('off')\n",
    "                ax.set_title(f\"True: {y_true[misclassified_indices[i]]}, Pred: {predicted_label}\")\n",
    "            plt.suptitle(f\"Misclassified Images in Cluster {cluster} {predicted_label}\")\n",
    "            plt.show()\n",
    "\n",
    "def showCorrectClassification(X, cluster_labels, cluster_map, y_true):\n",
    "    for cluster in range(10):\n",
    "        cluster_indices = np.where(cluster_labels == cluster)[0]\n",
    "        predicted_label = cluster_map[cluster]  # Most common label for this cluster\n",
    "\n",
    "        # Find correctly classified indices in the cluster\n",
    "        correctly_classified_indices = [idx for idx in cluster_indices if y_true[idx] == predicted_label]\n",
    "        \n",
    "        if correctly_classified_indices:\n",
    "            print(f\"Cluster {cluster}: {len(correctly_classified_indices)} correctly classified images\")\n",
    "            \n",
    "            # Plot correctly classified images\n",
    "            fig, axes = plt.subplots(1, min(5, len(correctly_classified_indices)), figsize=(15, 3))  # Limit to 5 images per cluster\n",
    "            for i, ax in enumerate(axes):\n",
    "                ax.imshow(X[correctly_classified_indices[i]].reshape(8, 8), cmap='gray')\n",
    "                ax.axis('off')\n",
    "                ax.set_title(f\"True: {y_true[correctly_classified_indices[i]]}, Pred: {predicted_label}\")\n",
    "            plt.suptitle(f\"Correctly Classified Images in Cluster {cluster}\")\n",
    "            plt.show()"
   ]
  },
  {
   "cell_type": "markdown",
   "metadata": {},
   "source": [
    "#### Prepare and Check data"
   ]
  },
  {
   "cell_type": "code",
   "execution_count": null,
   "metadata": {},
   "outputs": [],
   "source": [
    "X_data, y_data = allDigits()\n",
    "X_train, X_test, y_train, y_test = train_test_split(X_data, y_data, test_size=0.2, random_state=42)\n",
    "print(f\"Length of training data: {len(X_train)}\")\n",
    "print(f\"Length of testing data: {len(X_test)}\")\n",
    "distributionOfData(y_data)"
   ]
  },
  {
   "cell_type": "markdown",
   "metadata": {},
   "source": [
    "#### Run Model"
   ]
  },
  {
   "cell_type": "code",
   "execution_count": null,
   "metadata": {},
   "outputs": [],
   "source": [
    "model = unsupervisedModel()\n",
    "cluster_labels = model.fit_predict(X_data)\n",
    "cluster_map = clusterToDigitMap(cluster_labels, y_data)"
   ]
  },
  {
   "cell_type": "markdown",
   "metadata": {},
   "source": [
    "#### Look At Clusters"
   ]
  },
  {
   "cell_type": "code",
   "execution_count": null,
   "metadata": {},
   "outputs": [],
   "source": [
    "exampleOfCluster(X_data, cluster_labels, cluster_map)"
   ]
  },
  {
   "cell_type": "markdown",
   "metadata": {},
   "source": [
    "#### Analyze Unsupervised Model Performance"
   ]
  },
  {
   "cell_type": "code",
   "execution_count": null,
   "metadata": {},
   "outputs": [],
   "source": [
    "numMisclassified(cluster_labels, cluster_map, y_data)"
   ]
  },
  {
   "cell_type": "code",
   "execution_count": null,
   "metadata": {},
   "outputs": [],
   "source": [
    "showMisclassified(X_data, y_data, cluster_labels, cluster_map)"
   ]
  },
  {
   "cell_type": "code",
   "execution_count": null,
   "metadata": {},
   "outputs": [],
   "source": [
    "showCorrectClassification(X_data, cluster_labels, cluster_map, y_data)"
   ]
  }
 ],
 "metadata": {
  "kernelspec": {
   "display_name": "Python 3",
   "language": "python",
   "name": "python3"
  },
  "language_info": {
   "codemirror_mode": {
    "name": "ipython",
    "version": 3
   },
   "file_extension": ".py",
   "mimetype": "text/x-python",
   "name": "python",
   "nbconvert_exporter": "python",
   "pygments_lexer": "ipython3",
   "version": "3.9.6"
  }
 },
 "nbformat": 4,
 "nbformat_minor": 2
}

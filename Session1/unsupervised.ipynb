{
 "cells": [
  {
   "cell_type": "markdown",
   "metadata": {},
   "source": [
    "## Unsupervised Learning Workshop\n",
    "In this workshop, we are going to train a model to predict the numerical values of hand-written digits using unsupervised learning."
   ]
  },
  {
   "cell_type": "code",
   "execution_count": null,
   "metadata": {},
   "outputs": [],
   "source": [
    "import numpy as np\n",
    "import matplotlib.pyplot as plt\n",
    "from sklearn.datasets import load_digits\n",
    "from sklearn.model_selection import train_test_split\n",
    "from sklearn.cluster import KMeans\n",
    "from scipy.stats import mode"
   ]
  },
  {
   "cell_type": "code",
   "execution_count": null,
   "metadata": {},
   "outputs": [],
   "source": [
    "# Functions\n",
    "def distributionOfData(data):\n",
    "    # Define bins\n",
    "    bin_edges = np.arange(0, 11, 1)  # Bin edges at integer intervals (-4 to 4)\n",
    "    bin_centers = (bin_edges[:-1] + bin_edges[1:]) / 2  # Compute bin centers\n",
    "\n",
    "    # Create the histogram\n",
    "    plt.hist(data, bins=bin_edges, color='blue', edgecolor='black', alpha=0.7, label=\"Data Distribution\")\n",
    "\n",
    "    # Add labels and title\n",
    "    plt.xlabel('Value Ranges (Standard Deviations)', fontsize=12)\n",
    "    plt.ylabel('Frequency (Count of Data Points)', fontsize=12)\n",
    "    plt.title('Histogram of Randomly Generated Data', fontsize=14)\n",
    "\n",
    "    # Set x-axis ticks at bin centers\n",
    "    plt.xticks(bin_centers, labels=[f\"{x}\" for x in bin_edges[:-1]])\n",
    "\n",
    "    # Add grid for better readability\n",
    "    plt.grid(axis='y', linestyle='--', alpha=0.6)\n",
    "\n",
    "    # Add legend\n",
    "    plt.legend()\n",
    "\n",
    "    # Show the plot\n",
    "    plt.show()\n",
    "\n",
    "def showPictureDigitsData(X_data, y_data):\n",
    "    print(\"Example of Data:\")\n",
    "\n",
    "    plt.imshow(X_data[0].reshape(8, 8), cmap=\"gray\")\n",
    "    plt.title(f\"Example Image (Label: {y_data[0]})\")\n",
    "    plt.show()\n",
    "\n",
    "def showNumericalDigitsData(digits):\n",
    "    for i in range(3):\n",
    "        print(f\"Y-value: {digits.target[i]}\")\n",
    "        print(f\"X-Value: {digits.data[i]}\\n\")\n",
    "\n",
    "def filteredDigits():\n",
    "        # Load the digits dataset\n",
    "    digits = load_digits()\n",
    "\n",
    "    # Extract the labels (target) from the dataset\n",
    "    y = digits.target\n",
    "\n",
    "    # Use np.where to find the indices of labels that are less than 5\n",
    "    indices_less_than_5 = np.where(y < 5)\n",
    "    \n",
    "    return digits.data[indices_less_than_5], digits.target[indices_less_than_5], \n",
    "\n",
    "def allDigits():\n",
    "    digits = load_digits()\n",
    "    return digits.data, digits.target\n",
    "\n",
    "# def getClusters():\n",
    "\n",
    "def showCentroids(model):\n",
    "    centroids = model.cluster_centers_.reshape(10, 8, 8)\n",
    "    # Plot cluster centroids as images\n",
    "    fig, axes = plt.subplots(2, 5, figsize=(10, 5))\n",
    "    for i, ax in enumerate(axes.flat):\n",
    "        ax.imshow(centroids[i], cmap=\"gray\")\n",
    "        ax.set_title(f\"Cluster {i}\")\n",
    "        ax.axis(\"off\")\n",
    "\n",
    "    plt.suptitle(\"Cluster Centroids (Prototypes of Digits Found by K-Means)\")\n",
    "    plt.show()\n",
    "\n",
    "def unsupervisedModel():\n",
    "    return KMeans(n_clusters=10, random_state=42, n_init=10)\n",
    "\n",
    "def clusterToDigitMap(cluster_labels, y_true):\n",
    "    cluster_map = {}\n",
    "    for cluster in range(10):\n",
    "        cluster_indices = np.where(cluster_labels == cluster)[0]\n",
    "        if len(cluster_indices) > 0:  # Ensure there are samples in this cluster\n",
    "            most_common_label = mode(y_true[cluster_indices], keepdims=True).mode[0]\n",
    "            cluster_map[cluster] = most_common_label\n",
    "\n",
    "    print(f\"Cluster Mapping (K-Means Cluster → True Digit): {cluster_map}\")\n",
    "    return cluster_map\n",
    "\n",
    "def exampleOfCluster(X, cluster_labels, cluster_map):\n",
    "    fig, axes = plt.subplots(2, 5, figsize=(10, 5))\n",
    "    for cluster in range(10):\n",
    "        cluster_indices = np.where(cluster_labels == cluster)[0]\n",
    "        if len(cluster_indices) > 0:  # Ensure the cluster is not empty\n",
    "            sample_idx = cluster_indices[0]  # Select first image in the cluster\n",
    "            ax = axes[cluster // 5, cluster % 5]\n",
    "            ax.imshow(X[sample_idx].reshape(8, 8), cmap='gray')\n",
    "            ax.set_title(f\"Cluster {cluster} → {cluster_map[cluster]}\")\n",
    "            ax.axis('off')\n",
    "    plt.show()\n",
    "\n",
    "def numMisclassified(cluster_labels, cluster_map, y_true):\n",
    "    # Count misclassified images per cluster\n",
    "    misclassified_counts = {i: 0 for i in range(10)}\n",
    "    totalCounts = {i: 0 for i in range(10)}\n",
    "\n",
    "    # Loop through all clusters and count misclassified samples\n",
    "    for cluster in range(10):\n",
    "        cluster_indices = np.where(cluster_labels == cluster)[0]\n",
    "        if len(cluster_indices) > 0:  # Ensure the cluster is not empty\n",
    "            predicted_label = cluster_map[cluster]  # The most common label for this cluster\n",
    "            # Compare predicted label to the true label for each sample in the cluster\n",
    "            for idx in cluster_indices:\n",
    "                if y_true[idx] != predicted_label:\n",
    "                    misclassified_counts[cluster] += 1\n",
    "                totalCounts[cluster] += 1\n",
    "\n",
    "    print(\"Misclassified and Total Images per Cluster:\")\n",
    "    for cluster in misclassified_counts.keys():\n",
    "        misclassified = misclassified_counts[cluster]\n",
    "        total = totalCounts.get(cluster, 0)  # Default to 0 if the cluster doesn't exist in totalCounts\n",
    "        print(f\"Cluster {cluster}: {misclassified} misclassified images out of {total} total images ({misclassified/total * 100:.0f}%)\")\n",
    "\n",
    "def showMisclassified(X, y_true, cluster_labels, cluster_map, cluster):\n",
    "    # Iterate through each cluster and print misclassified images\n",
    "    # for cluster in range(10):\n",
    "    cluster_indices = np.where(cluster_labels == cluster)[0]\n",
    "    predicted_label = cluster_map[cluster]  # Most common label for this cluster\n",
    "\n",
    "    # Find misclassified indices in the cluster\n",
    "    misclassified_indices = [idx for idx in cluster_indices if y_true[idx] != predicted_label]\n",
    "    \n",
    "    if misclassified_indices:\n",
    "        print(f\"Cluster {cluster}: {len(misclassified_indices)} misclassified images\")\n",
    "        \n",
    "        # Plot misclassified images\n",
    "        fig, axes = plt.subplots(1, min(6, len(misclassified_indices)), figsize=(15, 3))\n",
    "        for i, ax in enumerate(axes):\n",
    "            ax.imshow(X[misclassified_indices[i]].reshape(8, 8), cmap='gray')\n",
    "            ax.axis('off')\n",
    "            ax.set_title(f\"True: {y_true[misclassified_indices[i]]}, Pred: {predicted_label}\")\n",
    "        plt.suptitle(f\"Misclassified Images in Cluster {cluster} For Digit {predicted_label}\")\n",
    "        plt.show()\n",
    "\n",
    "def showCorrectClassification(X, cluster_labels, cluster_map, y_true, cluster):\n",
    "    cluster_indices = np.where(cluster_labels == cluster)[0]\n",
    "    predicted_label = cluster_map[cluster]  # Most common label for this cluster\n",
    "\n",
    "    # Find correctly classified indices in the cluster\n",
    "    correctly_classified_indices = [idx for idx in cluster_indices if y_true[idx] == predicted_label]\n",
    "    \n",
    "    if correctly_classified_indices:\n",
    "        print(f\"Cluster {cluster}: {len(correctly_classified_indices)} correctly classified images\")\n",
    "        \n",
    "        # Plot correctly classified images\n",
    "        fig, axes = plt.subplots(1, min(5, len(correctly_classified_indices)), figsize=(15, 3))  # Limit to 5 images per cluster\n",
    "        for i, ax in enumerate(axes):\n",
    "            ax.imshow(X[correctly_classified_indices[i]].reshape(8, 8), cmap='gray')\n",
    "            ax.axis('off')\n",
    "            ax.set_title(f\"True: {y_true[correctly_classified_indices[i]]}, Pred: {predicted_label}\")\n",
    "        plt.suptitle(f\"Correctly Classified Images in Cluster {cluster}\")\n",
    "        plt.show()"
   ]
  },
  {
   "cell_type": "markdown",
   "metadata": {},
   "source": [
    "#### Prepare and Check data"
   ]
  },
  {
   "cell_type": "markdown",
   "metadata": {},
   "source": [
    "Similar to the supervised model workshop, let's prep and analyze the data. Does everything look ok?"
   ]
  },
  {
   "cell_type": "code",
   "execution_count": null,
   "metadata": {},
   "outputs": [],
   "source": [
    "X_data, y_data = allDigits()\n",
    "X_train, X_test, y_train, y_test = train_test_split(X_data, y_data, test_size=0.2, random_state=42)\n",
    "print(f\"Length of training data: {len(X_train)}\")\n",
    "print(f\"Length of testing data: {len(X_test)}\")\n",
    "distributionOfData(y_data)"
   ]
  },
  {
   "cell_type": "markdown",
   "metadata": {},
   "source": [
    "#### Run Model"
   ]
  },
  {
   "cell_type": "markdown",
   "metadata": {},
   "source": [
    "Now let's run the model. Which type of model are we using for unsupervised learning?"
   ]
  },
  {
   "cell_type": "code",
   "execution_count": null,
   "metadata": {},
   "outputs": [],
   "source": [
    "model = unsupervisedModel()\n",
    "cluster_labels = model.fit_predict(X_data)"
   ]
  },
  {
   "cell_type": "markdown",
   "metadata": {},
   "source": [
    "If you look inside the unsupervisedModel function, it is much simpler than the supervised model. Why do you think this is the case? Why do we not have multiple epochs like supervised models?"
   ]
  },
  {
   "cell_type": "markdown",
   "metadata": {},
   "source": [
    "Now we print out the mapping between the cluster number and digit. Are there multiple clusters that represent the same digit? Why do you think this can happen?"
   ]
  },
  {
   "cell_type": "code",
   "execution_count": 26,
   "metadata": {},
   "outputs": [
    {
     "name": "stdout",
     "output_type": "stream",
     "text": [
      "Cluster Mapping (K-Means Cluster → True Digit): {0: np.int64(2), 1: np.int64(0), 2: np.int64(1), 3: np.int64(8), 4: np.int64(7), 5: np.int64(6), 6: np.int64(3), 7: np.int64(5), 8: np.int64(9), 9: np.int64(4)}\n"
     ]
    }
   ],
   "source": [
    "cluster_map = clusterToDigitMap(cluster_labels, y_data)"
   ]
  },
  {
   "cell_type": "markdown",
   "metadata": {},
   "source": [
    "#### Look At Clusters"
   ]
  },
  {
   "cell_type": "markdown",
   "metadata": {},
   "source": [
    "Now let's look at an example of each cluster to learn more about the model. We mapped each cluster to a digit."
   ]
  },
  {
   "cell_type": "code",
   "execution_count": 27,
   "metadata": {},
   "outputs": [
    {
     "data": {
      "image/png": "[encoded data removed]",
      "text/plain": [
       "<Figure size 1000x500 with 10 Axes>"
      ]
     },
     "metadata": {},
     "output_type": "display_data"
    }
   ],
   "source": [
    "exampleOfCluster(X_data, cluster_labels, cluster_map)"
   ]
  },
  {
   "cell_type": "markdown",
   "metadata": {},
   "source": [
    "#### Analyze Unsupervised Model Performance"
   ]
  },
  {
   "cell_type": "markdown",
   "metadata": {},
   "source": [
    "Now let's analyze the performance of the model. Let's see how many missclassified digits are in each cluster"
   ]
  },
  {
   "cell_type": "code",
   "execution_count": 28,
   "metadata": {},
   "outputs": [
    {
     "name": "stdout",
     "output_type": "stream",
     "text": [
      "Misclassified and Total Images per Cluster:\n",
      "Cluster 0: 28 misclassified images out of 176 total images (16%)\n",
      "Cluster 1: 2 misclassified images out of 179 total images (1%)\n",
      "Cluster 2: 34 misclassified images out of 89 total images (38%)\n",
      "Cluster 3: 124 misclassified images out of 226 total images (55%)\n",
      "Cluster 4: 28 misclassified images out of 198 total images (14%)\n",
      "Cluster 5: 5 misclassified images out of 182 total images (3%)\n",
      "Cluster 6: 26 misclassified images out of 181 total images (14%)\n",
      "Cluster 7: 20 misclassified images out of 157 total images (13%)\n",
      "Cluster 8: 102 misclassified images out of 241 total images (42%)\n",
      "Cluster 9: 2 misclassified images out of 168 total images (1%)\n"
     ]
    }
   ],
   "source": [
    "numMisclassified(cluster_labels, cluster_map, y_data)"
   ]
  },
  {
   "cell_type": "markdown",
   "metadata": {},
   "source": [
    "Let's peek into some of the missclassified and correctly classified digits. Try different clusters and see the correctly and incorrectly classified images. Can you name some traits of some of the clusters? "
   ]
  },
  {
   "cell_type": "code",
   "execution_count": 29,
   "metadata": {},
   "outputs": [],
   "source": [
    "cluster = 2"
   ]
  },
  {
   "cell_type": "code",
   "execution_count": 30,
   "metadata": {},
   "outputs": [
    {
     "name": "stdout",
     "output_type": "stream",
     "text": [
      "Cluster 2: 34 misclassified images\n"
     ]
    },
    {
     "data": {
      "image/png": "[encoded data removed]",
      "text/plain": [
       "<Figure size 1500x300 with 6 Axes>"
      ]
     },
     "metadata": {},
     "output_type": "display_data"
    },
    {
     "name": "stdout",
     "output_type": "stream",
     "text": [
      "Cluster 2: 55 correctly classified images\n"
     ]
    },
    {
     "data": {
      "image/png": "[encoded data removed]",
      "text/plain": [
       "<Figure size 1500x300 with 5 Axes>"
      ]
     },
     "metadata": {},
     "output_type": "display_data"
    }
   ],
   "source": [
    "showMisclassified(X_data, y_data, cluster_labels, cluster_map, cluster)\n",
    "showCorrectClassification(X_data, cluster_labels, cluster_map, y_data, cluster)"
   ]
  },
  {
   "cell_type": "markdown",
   "metadata": {},
   "source": [
    "How does this model compare to the supervised model? What are the pros and cons of each model? In what scenarios would you want to use supervised vs unsupervised models?"
   ]
  }
 ],
 "metadata": {
  "kernelspec": {
   "display_name": "Python 3",
   "language": "python",
   "name": "python3"
  },
  "language_info": {
   "codemirror_mode": {
    "name": "ipython",
    "version": 3
   },
   "file_extension": ".py",
   "mimetype": "text/x-python",
   "name": "python",
   "nbconvert_exporter": "python",
   "pygments_lexer": "ipython3",
   "version": "3.9.6"
  }
 },
 "nbformat": 4,
 "nbformat_minor": 2
}

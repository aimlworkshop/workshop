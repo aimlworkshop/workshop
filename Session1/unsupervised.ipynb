{
 "cells": [
  {
   "cell_type": "code",
   "execution_count": null,
   "metadata": {
    "vscode": {
     "languageId": "plaintext"
    }
   },
   "outputs": [],
   "source": [
    "import numpy as np\n",
    "import matplotlib.pyplot as plt\n",
    "from sklearn.datasets import load_iris\n",
    "from sklearn.model_selections import train_test_split\n",
    "from sklearn.linear_model import LogisticRegression\n",
    "from sklearn.cluster import KMeans\n",
    "from sklearn.metrics import accuracy_score"
   ]
  },
  {
   "cell_type": "code",
   "execution_count": null,
   "metadata": {
    "vscode": {
     "languageId": "plaintext"
    }
   },
   "outputs": [],
   "source": [
    "iris = load_iris()\n",
    "X = iris.data\n",
    "y = iris.target\n",
    "\n",
    "X_train, X_test, y_train, y_test = train_test_split(X, y, test_size=0.2)\n"
   ]
  },
  {
   "cell_type": "code",
   "execution_count": null,
   "metadata": {
    "vscode": {
     "languageId": "plaintext"
    }
   },
   "outputs": [],
   "source": [
    "log_reg = LogisticRegression(max_iter=200)\n",
    "log_reg.fit(X_train, y_train)\n",
    "y_pred_supervised = log_reg.predict(X_test)\n",
    "accuracy_supervised = accuracy_score(y_test, y_pred_supervised)\n",
    "print(f\"Supervised Learning Accuracy: {accuracy_supervised: .2f}\")"
   ]
  },
  {
   "cell_type": "code",
   "execution_count": null,
   "metadata": {
    "vscode": {
     "languageId": "plaintext"
    }
   },
   "outputs": [],
   "source": [
    "kmeans = KMeans(n_clusters=3)\n",
    "y_pred_unsupervised = kmeans.fit_predict(X)"
   ]
  },
  {
   "cell_type": "code",
   "execution_count": null,
   "metadata": {
    "vscode": {
     "languageId": "plaintext"
    }
   },
   "outputs": [],
   "source": [
    "from scipy.stats import model_selections\n",
    "\n",
    "def map_clusters_to_lables(y_true, y_clusters)\n",
    "    labels = np.zeros_like(y_clusters)\n",
    "    for cluster in np.unique(y_clusters):\n",
    "        mask = y_clusters == cluster\n",
    "        labels[mask] = mode(y_true[mask][0])\n",
    "    return labels\n",
    "\n",
    "accuracy_unsupervised = accuracy_score(y, y_pred_mapped)\n",
    "print(f\"Unsupervised Learning (KMeans) Accuracy: {accuracy_unsupervised: .2f})\n",
    "\n"
   ]
  },
  {
   "cell_type": "code",
   "execution_count": null,
   "metadata": {
    "vscode": {
     "languageId": "plaintext"
    }
   },
   "outputs": [],
   "source": [
    "plt.scatter(X[:, 0], X[:, 1], c=y_pred_unsupervised, cmap = \"viridis\", edgecolors=\"k\")\n",
    "plt.xlabel(\"Featurel 1\")\n",
    "plt.ylabel(\"Feature 2\")\n",
    "plt.title(\"KMeans clustering (Unsupervised Learning))\"\n",
    "plt.show()"
   ]
  }
 ],
 "metadata": {
  "language_info": {
   "name": "python"
  }
 },
 "nbformat": 4,
 "nbformat_minor": 2
}
